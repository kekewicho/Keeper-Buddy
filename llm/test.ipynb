{
 "cells": [
  {
   "cell_type": "code",
   "execution_count": 1,
   "id": "0a5bf2bf",
   "metadata": {},
   "outputs": [],
   "source": [
    "tasks_tools_definition = [\n",
    "    {\n",
    "        \"name\": \"add_to_shopping_list\",\n",
    "        \"description\": \"Agrega un nuevo artículo a la lista de compras.\",\n",
    "        \"parameters\": {\n",
    "            \"type\": \"object\",\n",
    "            \"properties\": {\n",
    "                \"article\": {\n",
    "                    \"type\": \"string\",\n",
    "                    \"description\": \"El artículo que se agregará a la lista de compras.\"\n",
    "                },\n",
    "                \"payday\": {\n",
    "                    \"type\": \"string\",\n",
    "                    \"description\": \"Opcional. Especifica la quincena para agregar el artículo. Formato: 'AAAA-MM-#' donde # es 1 (día 15) o 2 (día 30). Si no se proporciona, se agrega a la siguiente quincena.\"\n",
    "                }\n",
    "            },\n",
    "            \"required\": [\"article\"]\n",
    "        }\n",
    "    }\n",
    "]"
   ]
  },
  {
   "cell_type": "code",
   "execution_count": 2,
   "id": "ef317856",
   "metadata": {},
   "outputs": [],
   "source": [
    "from google import genai\n",
    "from google.genai import types\n",
    "import dotenv\n",
    "import os\n",
    "\n",
    "dotenv.load_dotenv()\n",
    "\n",
    "client = genai.Client(api_key=os.getenv(\"GOOGLE_AI_API_KEY\"))\n",
    "\n",
    "\n",
    "from adapters import json_to_part\n"
   ]
  },
  {
   "cell_type": "code",
   "execution_count": 3,
   "id": "53665c1b",
   "metadata": {},
   "outputs": [],
   "source": [
    "tools = types.Tool(function_declarations=tasks_tools_definition)\n",
    "config = types.GenerateContentConfig(tools=[tools])"
   ]
  },
  {
   "cell_type": "code",
   "execution_count": 8,
   "id": "f071173d",
   "metadata": {},
   "outputs": [],
   "source": [
    "contents = [\n",
    "    types.Content(\n",
    "        role=\"model\",\n",
    "        parts=[types.Part(text=\"agrega croquetas a la lista de compras para la quincena del 15 de julio\")]\n",
    "    )\n",
    "]\n"
   ]
  },
  {
   "cell_type": "code",
   "execution_count": 9,
   "id": "a493478f",
   "metadata": {},
   "outputs": [],
   "source": [
    "response = client.models.generate_content(\n",
    "    model=\"gemini-2.5-flash\",\n",
    "    contents=contents,\n",
    "    config=config\n",
    ")"
   ]
  },
  {
   "cell_type": "code",
   "execution_count": 10,
   "id": "e0d649e3",
   "metadata": {},
   "outputs": [],
   "source": [
    "tool_call = response.candidates[0].content.parts[0].function_call"
   ]
  },
  {
   "cell_type": "code",
   "execution_count": 11,
   "id": "7f398983",
   "metadata": {},
   "outputs": [
    {
     "ename": "SyntaxError",
     "evalue": "invalid syntax (1126833598.py, line 1)",
     "output_type": "error",
     "traceback": [
      "\u001b[1;36m  Cell \u001b[1;32mIn[13], line 1\u001b[1;36m\u001b[0m\n\u001b[1;33m    tool_call.\u001b[0m\n\u001b[1;37m              ^\u001b[0m\n\u001b[1;31mSyntaxError\u001b[0m\u001b[1;31m:\u001b[0m invalid syntax\n"
     ]
    }
   ],
   "source": [
    "tool_call."
   ]
  },
  {
   "cell_type": "code",
   "execution_count": 7,
   "id": "b3296134",
   "metadata": {},
   "outputs": [
    {
     "name": "stdout",
     "output_type": "stream",
     "text": [
      "Las croquetas se han añadido a la lista de compras para la quincena del 15 de julio.\n"
     ]
    }
   ],
   "source": [
    "function_response_part = types.Part.from_function_response(\n",
    "    name=tool_call.name,\n",
    "    response={\"result\": {\"article\": \"frasco de nutella\", \"payday\": \"2025-06-2\", \"status\": \"success\"}},\n",
    ")\n",
    "\n",
    "# Append function call and result of the function execution to contents\n",
    "contents.append(response.candidates[0].content) # Append the content from the model's response.\n",
    "contents.append(types.Content(role=\"user\", parts=[function_response_part])) # Append the function response\n",
    "\n",
    "final_response = client.models.generate_content(\n",
    "    model=\"gemini-2.5-flash\",\n",
    "    config=config,\n",
    "    contents=contents,\n",
    ")\n",
    "\n",
    "print(final_response.text)\n"
   ]
  },
  {
   "cell_type": "code",
   "execution_count": null,
   "id": "deaa5215",
   "metadata": {},
   "outputs": [
    {
     "data": {
      "text/plain": [
       "[Content(parts=[Part(video_metadata=None, thought=None, inline_data=None, file_data=None, thought_signature=None, code_execution_result=None, executable_code=None, function_call=None, function_response=None, text='agrega croquetas a la lista de compras para la quincena del 15 de julio')], role='user'),\n",
       " Content(parts=[Part(video_metadata=None, thought=None, inline_data=None, file_data=None, thought_signature=None, code_execution_result=None, executable_code=None, function_call=FunctionCall(id=None, args={'payday': '2024-07-1', 'article': 'croquetas'}, name='add_to_shopping_list'), function_response=None, text=None)], role='model'),\n",
       " Content(parts=[Part(video_metadata=None, thought=None, inline_data=None, file_data=None, thought_signature=None, code_execution_result=None, executable_code=None, function_call=None, function_response=FunctionResponse(will_continue=None, scheduling=None, id=None, name='add_to_shopping_list', response={'result': {'article': 'frasco de nutella', 'payday': '2025-06-2', 'status': 'success'}}), text=None)], role='user')]"
      ]
     },
     "execution_count": 16,
     "metadata": {},
     "output_type": "execute_result"
    }
   ],
   "source": [
    "contents"
   ]
  }
 ],
 "metadata": {
  "kernelspec": {
   "display_name": "Python 3",
   "language": "python",
   "name": "python3"
  },
  "language_info": {
   "codemirror_mode": {
    "name": "ipython",
    "version": 3
   },
   "file_extension": ".py",
   "mimetype": "text/x-python",
   "name": "python",
   "nbconvert_exporter": "python",
   "pygments_lexer": "ipython3",
   "version": "3.11.8"
  }
 },
 "nbformat": 4,
 "nbformat_minor": 5
}
