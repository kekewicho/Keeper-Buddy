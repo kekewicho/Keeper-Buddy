{
 "cells": [
  {
   "cell_type": "code",
   "execution_count": 1,
   "id": "2741376d",
   "metadata": {},
   "outputs": [
    {
     "name": "stderr",
     "output_type": "stream",
     "text": [
      "c:\\Users\\kekew\\AppData\\Local\\Programs\\Python\\Python311\\Lib\\site-packages\\tqdm\\auto.py:21: TqdmWarning: IProgress not found. Please update jupyter and ipywidgets. See https://ipywidgets.readthedocs.io/en/stable/user_install.html\n",
      "  from .autonotebook import tqdm as notebook_tqdm\n"
     ]
    }
   ],
   "source": [
    "import google.generativeai as genai # Aquí está el cambio principal\n",
    "from google.generativeai import types # Y aquí, para los tipos\n",
    "import dotenv\n",
    "import os\n",
    "import json\n",
    "\n",
    "dotenv.load_dotenv()\n",
    "\n",
    "genai.configure(api_key=os.getenv(\"GOOGLE_AI_API_KEY\"))\n",
    "\n",
    "# Tus estructuras de datos no necesitan ser modificadas\n",
    "tasks_tools_definition = json.loads(open(\"tools.json\", \"r\").read())\n",
    "tools = [types.Tool(function_declarations=tasks_tools_definition)]\n",
    "\n",
    "MODEL_NAME = \"gemini-1.5-flash\"\n",
    "\n",
    "\n",
    "def prompt(contents: list) -> list:\n",
    "    \n",
    "    model = genai.GenerativeModel(MODEL_NAME)\n",
    "    \n",
    "    response = model.generate_content(\n",
    "        contents=contents,\n",
    "        tools=tools\n",
    "    )\n",
    "\n",
    "    return [\n",
    "        *contents,\n",
    "        response.to_dict()['candidates'][0]['content']\n",
    "    ]"
   ]
  },
  {
   "cell_type": "code",
   "execution_count": null,
   "id": "1c851b74",
   "metadata": {},
   "outputs": [],
   "source": [
    "res = prompt([{\n",
    "    \"role\": \"user\",\n",
    "    \"parts\": [\n",
    "        {\n",
    "            \"text\": \"agrega pan a la lista de compras de la 2da quincena de ju\"\n",
    "        }\n",
    "    ]\n",
    "}])"
   ]
  },
  {
   "cell_type": "code",
   "execution_count": 5,
   "id": "15115d60",
   "metadata": {},
   "outputs": [
    {
     "data": {
      "text/plain": [
       "[{'role': 'user',\n",
       "  'parts': [{'text': 'agrega pan a la lista de compras de la 2da quincena de julio'}]},\n",
       " {'parts': [{'function_call': {'name': 'despensa.add',\n",
       "     'args': {'payday': '2024-07-2', 'article': 'pan'},\n",
       "     'id': ''}}],\n",
       "  'role': 'model'}]"
      ]
     },
     "execution_count": 5,
     "metadata": {},
     "output_type": "execute_result"
    }
   ],
   "source": [
    "res"
   ]
  }
 ],
 "metadata": {
  "kernelspec": {
   "display_name": "Python 3",
   "language": "python",
   "name": "python3"
  },
  "language_info": {
   "codemirror_mode": {
    "name": "ipython",
    "version": 3
   },
   "file_extension": ".py",
   "mimetype": "text/x-python",
   "name": "python",
   "nbconvert_exporter": "python",
   "pygments_lexer": "ipython3",
   "version": "3.11.8"
  }
 },
 "nbformat": 4,
 "nbformat_minor": 5
}
